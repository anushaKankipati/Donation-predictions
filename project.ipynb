{
 "cells": [
  {
   "cell_type": "markdown",
   "metadata": {},
   "source": [
    "### Will they Donate?\n",
    "**Anusha Kankipati, Anagha Nair**   "
   ]
  },
  {
   "cell_type": "markdown",
   "metadata": {},
   "source": [
    "Loading and Configuring Dataset"
   ]
  },
  {
   "cell_type": "code",
   "execution_count": 163,
   "metadata": {},
   "outputs": [],
   "source": [
    "import numpy as np\n",
    "\n",
    "def loaddata(filename):\n",
    "    # Load the data from the file, assuming no missing values and header is skipped\n",
    "    data = np.genfromtxt(filename, delimiter=',', skip_header=1)\n",
    "    n = len(data[0])\n",
    "\n",
    "    # Split into features (X) and target (y)\n",
    "    X = data[:, :(n-1)]  # First n-1 columns\n",
    "    y = data[:, -1]  # Last column\n",
    "    return X, y\n",
    "\n",
    "def normalize(X):\n",
    "    mean = np.mean(X, axis=0)\n",
    "    std = np.std(X, axis=0)\n",
    "    \n",
    "    # Perform Z-score normalization: (X - mean) / std\n",
    "    X_normalized = (X - mean) / std\n",
    "    \n",
    "    ones_column = np.ones((X_normalized.shape[0], 1))\n",
    "    X_normalized_withbias = np.hstack((X_normalized, ones_column))\n",
    "    return X_normalized_withbias\n",
    "\n",
    "def split_data(X, y, train_size=0.8, random_state=None):\n",
    "    # Set random seed for reproducibility\n",
    "    # if random_state is not None:\n",
    "    #     np.random.seed(random_state)\n",
    "    \n",
    "    # Concatenate X and y to ensure shuffling keeps them aligned\n",
    "    data = np.hstack((X, y.reshape(-1, 1)))\n",
    "    np.random.shuffle(data)\n",
    "    \n",
    "    # Split shuffled data back into X and y\n",
    "    X_shuffled, y_shuffled = data[:, :-1], data[:, -1]\n",
    "    \n",
    "    # Determine the split index\n",
    "    split_idx = int(train_size * len(X_shuffled))\n",
    "    \n",
    "    # Split data into training and testing sets\n",
    "    X_train, X_test = X_shuffled[:split_idx], X_shuffled[split_idx:]\n",
    "    y_train, y_test = y_shuffled[:split_idx], y_shuffled[split_idx:]\n",
    "    \n",
    "    return X_train, X_test, y_train, y_test\n",
    "\n",
    "# Load the data\n",
    "X, y = loaddata('transfusion.data')\n",
    "X_norm = normalize(X)     # A key step\n",
    "\n",
    "# Split the data into training and testing sets\n",
    "X_train, X_test, y_train, y_test = split_data(X_norm, y, random_state=42)\n",
    "\n",
    "# Print shapes for confirmation\n",
    "# print(\"X_train shape:\", X_train.shape)\n",
    "# print(\"y_train shape:\", y_train.shape)\n",
    "# print(\"X_test shape:\", X_test.shape)\n",
    "# print(\"y_test shape:\", y_test.shape)\n"
   ]
  },
  {
   "cell_type": "markdown",
   "metadata": {},
   "source": [
    "#### Logistic Regression"
   ]
  },
  {
   "cell_type": "code",
   "execution_count": 81,
   "metadata": {},
   "outputs": [
    {
     "name": "stdout",
     "output_type": "stream",
     "text": [
      "              precision    recall  f1-score   support\n",
      "\n",
      "         0.0       0.91      1.00      0.95       136\n",
      "         1.0       1.00      0.07      0.13        14\n",
      "\n",
      "    accuracy                           0.91       150\n",
      "   macro avg       0.96      0.54      0.54       150\n",
      "weighted avg       0.92      0.91      0.88       150\n",
      "\n",
      "Logistic Regression Test Accuracy: 0.9133333333333333\n"
     ]
    }
   ],
   "source": [
    "# import the class\n",
    "from sklearn.linear_model import LogisticRegression\n",
    "from sklearn.metrics import classification_report\n",
    "\n",
    "# instantiate the model (using the default parameters)\n",
    "logreg = LogisticRegression(random_state=16)\n",
    "\n",
    "# fit the model with data\n",
    "logreg.fit(X_train, y_train)\n",
    "\n",
    "y_pred = logreg.predict(X_test)\n",
    "\n",
    "def accuracyScore(predictions, labels):\n",
    "    # print(labels.shape)\n",
    "    n = len(labels)\n",
    "    if len(predictions) != n:\n",
    "        print(\"something's wrong, mismatched lengths\")\n",
    "        print(n, \"is not\", len(predictions))\n",
    "        return\n",
    "    correct = 0\n",
    "    for i in range(n):\n",
    "        if predictions[i] == labels[i]:\n",
    "            correct = correct+1\n",
    "    return correct / n\n",
    "\n",
    "\n",
    "\n",
    "print(classification_report(y_test, y_pred))\n",
    "print(f\"Logistic Regression Test Accuracy: {accuracyScore(y_pred, y_test)}\")"
   ]
  },
  {
   "cell_type": "markdown",
   "metadata": {},
   "source": [
    "Creating and displaying confusion matrix"
   ]
  },
  {
   "cell_type": "code",
   "execution_count": 67,
   "metadata": {},
   "outputs": [],
   "source": [
    "# import the metrics class\n",
    "from sklearn import metrics\n",
    "\n",
    "cnf_matrix = metrics.confusion_matrix(y_test, y_pred)"
   ]
  },
  {
   "cell_type": "code",
   "execution_count": 68,
   "metadata": {},
   "outputs": [
    {
     "data": {
      "text/plain": [
       "Text(0.5, 427.9555555555555, 'Predicted label')"
      ]
     },
     "execution_count": 68,
     "metadata": {},
     "output_type": "execute_result"
    },
    {
     "data": {
      "image/png": "[encoded data removed]",
      "text/plain": [
       "<Figure size 640x480 with 2 Axes>"
      ]
     },
     "metadata": {},
     "output_type": "display_data"
    }
   ],
   "source": [
    "# import required modules\n",
    "import numpy as np\n",
    "import matplotlib.pyplot as plt\n",
    "import seaborn as sns\n",
    "import pandas as pd\n",
    "\n",
    "class_names=[0,1] # name  of classes\n",
    "fig, ax = plt.subplots()\n",
    "tick_marks = np.arange(len(class_names))\n",
    "plt.xticks(tick_marks, class_names)\n",
    "plt.yticks(tick_marks, class_names)\n",
    "# create heatmap\n",
    "sns.heatmap(pd.DataFrame(cnf_matrix), annot=True, cmap=\"YlGnBu\" ,fmt='g')\n",
    "ax.xaxis.set_label_position(\"top\")\n",
    "plt.tight_layout()\n",
    "plt.title('Confusion matrix', y=1.1)\n",
    "plt.ylabel('Actual label')\n",
    "plt.xlabel('Predicted label')\n",
    "\n"
   ]
  },
  {
   "cell_type": "markdown",
   "metadata": {},
   "source": [
    "#### LDA and QDA\n",
    "Using PCA to remove collinearity"
   ]
  },
  {
   "cell_type": "code",
   "execution_count": 69,
   "metadata": {},
   "outputs": [
    {
     "name": "stdout",
     "output_type": "stream",
     "text": [
      "LDA Training Acc 0.725752508361204\n",
      "LDA Test Acc 0.9066666666666666\n",
      "QDA Training Acc 0.725752508361204\n",
      "QDA Test Acc 0.9066666666666666\n"
     ]
    }
   ],
   "source": [
    "from sklearn.discriminant_analysis import LinearDiscriminantAnalysis, QuadraticDiscriminantAnalysis\n",
    "from sklearn.decomposition import PCA\n",
    "def train_lda_classifier(X, y):\n",
    "    lda = LinearDiscriminantAnalysis()\n",
    "    lda.fit(X, y)\n",
    "    return lda\n",
    "\n",
    "def train_qda_classifier(X, y):\n",
    "    qda = QuadraticDiscriminantAnalysis()\n",
    "    qda.fit(X, y)\n",
    "    return qda\n",
    "\n",
    "\n",
    "def reduce_dimensionality(X, n_components=None):\n",
    "    # Reduce the dimensionality of the data to avoid collinearity issues\n",
    "    pca = PCA(n_components=n_components)\n",
    "    X_reduced = pca.fit_transform(X)\n",
    "    return X_reduced\n",
    "\n",
    "# Apply PCA to your training and testing data\n",
    "X_train_reduced = reduce_dimensionality(X_train, n_components=2)  # 1 or 2 components maximizes test accuracy \n",
    "X_test_reduced = reduce_dimensionality(X_test, n_components=2)\n",
    "\n",
    "lda = train_lda_classifier(X_train_reduced, y_train)\n",
    "qda = train_qda_classifier(X_train_reduced, y_train)\n",
    "\n",
    "print(\"LDA Training Acc\", lda.score(X_train_reduced, y_train))\n",
    "print(\"LDA Test Acc\", lda.score(X_test_reduced, y_test))\n",
    "\n",
    "print(\"QDA Training Acc\", qda.score(X_train_reduced, y_train))\n",
    "print(\"QDA Test Acc\", qda.score(X_test_reduced, y_test))\n"
   ]
  },
  {
   "cell_type": "code",
   "execution_count": 70,
   "metadata": {},
   "outputs": [
    {
     "data": {
      "image/png": "[encoded data removed]",
      "text/plain": [
       "<Figure size 1200x600 with 2 Axes>"
      ]
     },
     "metadata": {},
     "output_type": "display_data"
    }
   ],
   "source": [
    "from sklearn.metrics import confusion_matrix, ConfusionMatrixDisplay\n",
    "\n",
    "# Predict class labels for the test set\n",
    "lda_preds = lda.predict(X_test_reduced)\n",
    "qda_preds = qda.predict(X_test_reduced)\n",
    "\n",
    "# Generate confusion matrices\n",
    "lda_cm = confusion_matrix(y_test, lda_preds)\n",
    "qda_cm = confusion_matrix(y_test, qda_preds)\n",
    "\n",
    "# Plot confusion matrices\n",
    "fig, axes = plt.subplots(1, 2, figsize=(12, 6))\n",
    "\n",
    "ConfusionMatrixDisplay(lda_cm, display_labels=lda.classes_).plot(ax=axes[0], colorbar=False)\n",
    "axes[0].set_title('LDA Confusion Matrix')\n",
    "\n",
    "ConfusionMatrixDisplay(qda_cm, display_labels=qda.classes_).plot(ax=axes[1], colorbar=False)\n",
    "axes[1].set_title('QDA Confusion Matrix')\n",
    "\n",
    "plt.tight_layout()\n",
    "plt.show()\n"
   ]
  },
  {
   "cell_type": "markdown",
   "metadata": {},
   "source": [
    "Accuracy Score: 90.6% \n",
    "True Negative=136\n",
    "False Negative=14"
   ]
  },
  {
   "cell_type": "markdown",
   "metadata": {},
   "source": [
    "### Augmenting the Dataset\n",
    "Repeating the above classifiers with the augmented dataset, containing 4 extra features. <br>\n",
    "Feature 1=0.5×Recency (months)+0.3×Frequency (times)−0.2×Time (months) <br>\n",
    "Feature 2=0.7×Frequency (times)−0.4×Monetary (c.c. blood)+0.2×Time (months) <br>\n",
    "Feature 3=0.6×Recency (months)+0.5×Monetary (c.c. blood)−0.3×Frequency (times) <br>\n",
    "Feature 4=−0.5×Recency (months)+0.4×Time (months)+0.3×Frequency (times)"
   ]
  },
  {
   "cell_type": "code",
   "execution_count": 71,
   "metadata": {},
   "outputs": [],
   "source": [
    "# Load the data\n",
    "X_augmented, y_augmented = loaddata('augmented_data.csv')\n",
    "X_norm_augmented = normalize(X)\n",
    "\n",
    "# Split the data into training and testing sets\n",
    "X_train_augmented, X_test_augmented, y_train_augmented, y_test_augmented = split_data(X_norm_augmented, y_augmented)"
   ]
  },
  {
   "cell_type": "code",
   "execution_count": 72,
   "metadata": {},
   "outputs": [
    {
     "name": "stdout",
     "output_type": "stream",
     "text": [
      "Logistic Regression Test Accuracy: 0.9066666666666666\n"
     ]
    },
    {
     "data": {
      "text/plain": [
       "Text(0.5, 427.9555555555555, 'Predicted label')"
      ]
     },
     "execution_count": 72,
     "metadata": {},
     "output_type": "execute_result"
    },
    {
     "data": {
      "image/png": "[encoded data removed]",
      "text/plain": [
       "<Figure size 640x480 with 2 Axes>"
      ]
     },
     "metadata": {},
     "output_type": "display_data"
    }
   ],
   "source": [
    "# import the class\n",
    "from sklearn.linear_model import LogisticRegression\n",
    "\n",
    "# instantiate the model (using the default parameters)\n",
    "logreg = LogisticRegression(random_state=16)\n",
    "\n",
    "# fit the model with data\n",
    "logreg.fit(X_train_augmented, y_train_augmented)\n",
    "\n",
    "y_pred = logreg.predict(X_test_augmented)\n",
    "print(f\"Logistic Regression Test Accuracy: {accuracyScore(y_pred, y_test)}\")\n",
    "\n",
    "cnf_matrix = metrics.confusion_matrix(y_test, y_pred)\n",
    "class_names=[0,1] # name  of classes\n",
    "fig, ax = plt.subplots()\n",
    "tick_marks = np.arange(len(class_names))\n",
    "plt.xticks(tick_marks, class_names)\n",
    "plt.yticks(tick_marks, class_names)\n",
    "# create heatmap\n",
    "sns.heatmap(pd.DataFrame(cnf_matrix), annot=True, cmap=\"YlGnBu\" ,fmt='g')\n",
    "ax.xaxis.set_label_position(\"top\")\n",
    "plt.tight_layout()\n",
    "plt.title('Confusion matrix', y=1.1)\n",
    "plt.ylabel('Actual label')\n",
    "plt.xlabel('Predicted label')\n"
   ]
  },
  {
   "cell_type": "code",
   "execution_count": 73,
   "metadata": {},
   "outputs": [
    {
     "name": "stdout",
     "output_type": "stream",
     "text": [
      "LDA Training Acc 0.725752508361204\n",
      "LDA Test Acc 0.9066666666666666\n",
      "QDA Training Acc 0.725752508361204\n",
      "QDA Test Acc 0.9066666666666666\n"
     ]
    }
   ],
   "source": [
    "X_train_reduced = reduce_dimensionality(X_train_augmented, n_components=2)  # 1 or 2 components maximizes test accuracy \n",
    "X_test_reduced = reduce_dimensionality(X_test_augmented, n_components=2)\n",
    "\n",
    "lda = train_lda_classifier(X_train_reduced, y_train_augmented)\n",
    "qda = train_qda_classifier(X_train_reduced, y_train_augmented)\n",
    "\n",
    "print(\"LDA Training Acc\", lda.score(X_train_reduced, y_train_augmented))\n",
    "print(\"LDA Test Acc\", lda.score(X_test_reduced, y_test_augmented))\n",
    "\n",
    "print(\"QDA Training Acc\", qda.score(X_train_reduced, y_train_augmented))\n",
    "print(\"QDA Test Acc\", qda.score(X_test_reduced, y_test_augmented))\n"
   ]
  },
  {
   "cell_type": "code",
   "execution_count": 74,
   "metadata": {},
   "outputs": [
    {
     "data": {
      "image/png": "[encoded data removed]",
      "text/plain": [
       "<Figure size 1200x600 with 2 Axes>"
      ]
     },
     "metadata": {},
     "output_type": "display_data"
    }
   ],
   "source": [
    "# Predict class labels for the test set\n",
    "lda_preds = lda.predict(X_test_reduced)\n",
    "qda_preds = qda.predict(X_test_reduced)\n",
    "\n",
    "# Generate confusion matrices\n",
    "lda_cm = confusion_matrix(y_test, lda_preds)\n",
    "qda_cm = confusion_matrix(y_test, qda_preds)\n",
    "\n",
    "# Plot confusion matrices\n",
    "fig, axes = plt.subplots(1, 2, figsize=(12, 6))\n",
    "\n",
    "ConfusionMatrixDisplay(lda_cm, display_labels=lda.classes_).plot(ax=axes[0], colorbar=False)\n",
    "axes[0].set_title('LDA Confusion Matrix')\n",
    "\n",
    "ConfusionMatrixDisplay(qda_cm, display_labels=qda.classes_).plot(ax=axes[1], colorbar=False)\n",
    "axes[1].set_title('QDA Confusion Matrix')\n",
    "\n",
    "plt.tight_layout()\n",
    "plt.show()\n"
   ]
  },
  {
   "cell_type": "code",
   "execution_count": 76,
   "metadata": {},
   "outputs": [
    {
     "name": "stdout",
     "output_type": "stream",
     "text": [
      "[0. 0. 0. 0. 0. 0. 0. 0. 0. 0. 0. 0. 0. 0. 0. 0. 0. 0. 0. 0. 0. 0. 0. 0.\n",
      " 0. 0. 0. 0. 0. 0. 0. 0. 0. 0. 0. 0. 0. 0. 0. 0. 0. 0. 0. 0. 0. 0. 0. 0.\n",
      " 0. 0. 0. 0. 0. 0. 0. 0. 0. 0. 0. 0. 0. 0. 0. 0. 0. 0. 0. 0. 0. 0. 0. 0.\n",
      " 0. 0. 0. 0. 0. 0. 0. 0. 0. 0. 0. 0. 0. 0. 0. 0. 0. 0. 0. 0. 0. 0. 0. 0.\n",
      " 0. 0. 0. 0. 0. 0. 0. 0. 0. 0. 0. 0. 0. 0. 0. 0. 0. 0. 0. 0. 0. 0. 0. 0.\n",
      " 0. 0. 0. 0. 0. 0. 0. 0. 0. 0. 0. 0. 0. 0. 0. 0. 0. 0. 0. 0. 0. 0. 0. 0.\n",
      " 0. 0. 0. 0. 0. 0.]\n",
      "[0. 0. 0. 0. 0. 0. 0. 0. 0. 0. 0. 0. 0. 0. 1. 0. 0. 0. 0. 0. 1. 0. 0. 0.\n",
      " 1. 0. 1. 0. 0. 0. 0. 0. 0. 0. 0. 0. 0. 0. 0. 0. 0. 1. 1. 0. 0. 0. 1. 0.\n",
      " 0. 0. 0. 0. 0. 0. 0. 0. 0. 0. 0. 0. 0. 0. 0. 0. 0. 0. 0. 0. 0. 1. 0. 1.\n",
      " 0. 0. 0. 0. 0. 0. 0. 0. 0. 0. 1. 0. 0. 0. 0. 0. 0. 0. 0. 0. 0. 0. 0. 0.\n",
      " 0. 1. 0. 0. 0. 0. 0. 0. 0. 0. 0. 0. 0. 0. 1. 0. 0. 0. 1. 0. 0. 0. 0. 0.\n",
      " 0. 0. 0. 0. 0. 0. 0. 0. 0. 0. 0. 0. 0. 0. 1. 0. 0. 0. 0. 0. 0. 0. 0. 0.\n",
      " 0. 0. 0. 0. 0. 0.]\n"
     ]
    }
   ],
   "source": [
    "print(lda_preds)\n",
    "print(y_test)"
   ]
  },
  {
   "cell_type": "code",
   "execution_count": 170,
   "metadata": {},
   "outputs": [
    {
     "name": "stdout",
     "output_type": "stream",
     "text": [
      "Logistic Regression Test Accuracy: 0.9066666666666666\n",
      "Class Weight 1: 1.2, Average Accuracy: 0.9067\n",
      "Logistic Regression Test Accuracy: 0.9066666666666666\n",
      "Class Weight 1: 1.2, Average Accuracy: 0.9067\n",
      "Logistic Regression Test Accuracy: 0.9066666666666666\n",
      "Class Weight 1: 1.3, Average Accuracy: 0.9067\n",
      "Logistic Regression Test Accuracy: 0.9066666666666666\n",
      "Class Weight 1: 1.4, Average Accuracy: 0.9067\n",
      "Logistic Regression Test Accuracy: 0.9066666666666666\n",
      "Class Weight 1: 1.4, Average Accuracy: 0.9067\n",
      "Logistic Regression Test Accuracy: 0.9066666666666666\n",
      "Class Weight 1: 1.5, Average Accuracy: 0.9067\n",
      "Logistic Regression Test Accuracy: 0.9066666666666666\n",
      "Class Weight 1: 1.5, Average Accuracy: 0.9067\n",
      "Logistic Regression Test Accuracy: 0.9066666666666666\n",
      "Class Weight 1: 1.6, Average Accuracy: 0.9067\n",
      "Logistic Regression Test Accuracy: 0.9066666666666666\n",
      "Class Weight 1: 1.6, Average Accuracy: 0.9067\n",
      "Logistic Regression Test Accuracy: 0.9066666666666666\n",
      "Class Weight 1: 1.7, Average Accuracy: 0.9067\n",
      "Logistic Regression Test Accuracy: 0.9066666666666666\n",
      "Class Weight 1: 1.7, Average Accuracy: 0.9067\n",
      "Logistic Regression Test Accuracy: 0.9066666666666666\n",
      "Class Weight 1: 1.8, Average Accuracy: 0.9067\n",
      "Logistic Regression Test Accuracy: 0.9066666666666666\n",
      "Class Weight 1: 1.8, Average Accuracy: 0.9067\n",
      "Logistic Regression Test Accuracy: 0.9066666666666666\n",
      "Class Weight 1: 1.9, Average Accuracy: 0.9067\n",
      "Logistic Regression Test Accuracy: 0.9066666666666666\n",
      "Class Weight 1: 1.9, Average Accuracy: 0.9067\n",
      "Logistic Regression Test Accuracy: 0.9\n",
      "Class Weight 1: 2.0, Average Accuracy: 0.9000\n",
      "Logistic Regression Test Accuracy: 0.9\n",
      "Class Weight 1: 2.0, Average Accuracy: 0.9000\n",
      "Logistic Regression Test Accuracy: 0.8933333333333333\n",
      "Class Weight 1: 2.1, Average Accuracy: 0.8933\n",
      "Logistic Regression Test Accuracy: 0.8933333333333333\n",
      "Class Weight 1: 2.1, Average Accuracy: 0.8933\n",
      "Logistic Regression Test Accuracy: 0.8933333333333333\n",
      "Class Weight 1: 2.2, Average Accuracy: 0.8933\n",
      "Logistic Regression Test Accuracy: 0.8866666666666667\n",
      "Class Weight 1: 2.2, Average Accuracy: 0.8867\n",
      "Logistic Regression Test Accuracy: 0.8866666666666667\n",
      "Class Weight 1: 2.3, Average Accuracy: 0.8867\n",
      "Logistic Regression Test Accuracy: 0.88\n",
      "Class Weight 1: 2.3, Average Accuracy: 0.8800\n",
      "Logistic Regression Test Accuracy: 0.8733333333333333\n",
      "Class Weight 1: 2.4, Average Accuracy: 0.8733\n",
      "Logistic Regression Test Accuracy: 0.8533333333333334\n",
      "Class Weight 1: 2.4, Average Accuracy: 0.8533\n",
      "Logistic Regression Test Accuracy: 0.8066666666666666\n",
      "Class Weight 1: 2.5, Average Accuracy: 0.8067\n",
      "\n",
      "Best Class Weight for 1: 1.2 with Average Accuracy: 0.9067\n"
     ]
    }
   ],
   "source": [
    "\n",
    "\n",
    "from sklearn.metrics import accuracy_score, classification_report\n",
    "\n",
    "# Split the data into training and testing sets\n",
    "class_weight_range = np.arange(1.2, 2.5, 0.05)\n",
    "results = {}\n",
    "for weight in class_weight_range:\n",
    "    accuracies = []\n",
    "    for run in range(10):\n",
    "        # Split the data\n",
    "        \n",
    "        # Define class weights\n",
    "        class_weights = {0: 1, 1: weight}\n",
    "        \n",
    "        # Initialize and train the model\n",
    "        clf = LogisticRegression(class_weight=class_weights, random_state=4)\n",
    "        clf.fit(X_train_augmented, y_train_augmented)\n",
    "        \n",
    "        # Predict and calculate accuracy\n",
    "        y_pred = clf.predict(X_test_augmented)\n",
    "        acc = accuracy_score(y_test_augmented, y_pred)\n",
    "        accuracies.append(acc)\n",
    "    \n",
    "    # Average accuracy for the current weight\n",
    "    avg_accuracy = np.mean(accuracies)\n",
    "    # print(accuracies)\n",
    "    results[weight] = avg_accuracy\n",
    "    print(f\"Logistic Regression Test Accuracy: {accuracyScore(y_pred, y_test_augmented)}\")\n",
    "    print(f\"Class Weight 1: {weight:.1f}, Average Accuracy: {avg_accuracy:.4f}\")\n",
    "\n",
    "# Print the best-performing weight\n",
    "best_weight = max(results, key=results.get)\n",
    "print(f\"\\nBest Class Weight for 1: {best_weight:.1f} with Average Accuracy: {results[best_weight]:.4f}\")"
   ]
  },
  {
   "cell_type": "markdown",
   "metadata": {},
   "source": [
    "Accuracy Score: 90.6% \n",
    "QDA accuracy reduced to 89.3%\n",
    "\n",
    "True Negative=136\n",
    "False Negative=14\n",
    "\n",
    "\n",
    "\n",
    "**Without Normalization**\n",
    "QDA reduce to 88.6%"
   ]
  }
 ],
 "metadata": {
  "kernelspec": {
   "display_name": "base",
   "language": "python",
   "name": "python3"
  },
  "language_info": {
   "codemirror_mode": {
    "name": "ipython",
    "version": 3
   },
   "file_extension": ".py",
   "mimetype": "text/x-python",
   "name": "python",
   "nbconvert_exporter": "python",
   "pygments_lexer": "ipython3",
   "version": "3.12.2"
  }
 },
 "nbformat": 4,
 "nbformat_minor": 2
}
